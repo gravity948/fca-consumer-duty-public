{
 "cells": [
  {
   "cell_type": "code",
   "execution_count": 1,
   "metadata": {},
   "outputs": [],
   "source": [
    "import pandas as pd\n",
    "import json\n",
    "import numpy as np\n",
    "from readability import Readability\n",
    "import seaborn as sns\n",
    "import ast\n",
    "import matplotlib.pyplot as plt"
   ]
  },
  {
   "cell_type": "markdown",
   "metadata": {},
   "source": [
    "# Import Files"
   ]
  },
  {
   "cell_type": "code",
   "execution_count": 2,
   "metadata": {},
   "outputs": [],
   "source": [
    "readability_df = pd.read_csv('data/4-readability-measures.csv')\n",
    "legibility_df = pd.read_csv('data/5-legibility-measures.csv')"
   ]
  },
  {
   "cell_type": "markdown",
   "metadata": {},
   "source": [
    "# Readability"
   ]
  },
  {
   "cell_type": "markdown",
   "metadata": {},
   "source": [
    "## Input Mean Values"
   ]
  },
  {
   "cell_type": "code",
   "execution_count": 3,
   "metadata": {},
   "outputs": [
    {
     "name": "stdout",
     "output_type": "stream",
     "text": [
      "66\n",
      "236\n",
      "322\n"
     ]
    }
   ],
   "source": [
    "print(readability_df['Character Count'].isnull().sum())\n",
    "print(readability_df['Average Sentence Length'].isnull().sum())\n",
    "print(readability_df['Common Perc'].isnull().sum())"
   ]
  },
  {
   "cell_type": "markdown",
   "metadata": {},
   "source": [
    "## Standardise and de-mean"
   ]
  },
  {
   "cell_type": "code",
   "execution_count": 5,
   "metadata": {},
   "outputs": [
    {
     "data": {
      "text/html": [
       "<div>\n",
       "<style scoped>\n",
       "    .dataframe tbody tr th:only-of-type {\n",
       "        vertical-align: middle;\n",
       "    }\n",
       "\n",
       "    .dataframe tbody tr th {\n",
       "        vertical-align: top;\n",
       "    }\n",
       "\n",
       "    .dataframe thead th {\n",
       "        text-align: right;\n",
       "    }\n",
       "</style>\n",
       "<table border=\"1\" class=\"dataframe\">\n",
       "  <thead>\n",
       "    <tr style=\"text-align: right;\">\n",
       "      <th></th>\n",
       "      <th>Character Count</th>\n",
       "      <th>Average Sentence Length</th>\n",
       "      <th>Common Perc</th>\n",
       "    </tr>\n",
       "  </thead>\n",
       "  <tbody>\n",
       "    <tr>\n",
       "      <th>0</th>\n",
       "      <td>-2.246622</td>\n",
       "      <td>-0.472215</td>\n",
       "      <td>NaN</td>\n",
       "    </tr>\n",
       "    <tr>\n",
       "      <th>1</th>\n",
       "      <td>0.929172</td>\n",
       "      <td>-0.030178</td>\n",
       "      <td>0.733986</td>\n",
       "    </tr>\n",
       "    <tr>\n",
       "      <th>2</th>\n",
       "      <td>-0.766299</td>\n",
       "      <td>-0.075603</td>\n",
       "      <td>0.121466</td>\n",
       "    </tr>\n",
       "    <tr>\n",
       "      <th>3</th>\n",
       "      <td>NaN</td>\n",
       "      <td>-0.199950</td>\n",
       "      <td>0.642954</td>\n",
       "    </tr>\n",
       "    <tr>\n",
       "      <th>4</th>\n",
       "      <td>0.664944</td>\n",
       "      <td>0.311788</td>\n",
       "      <td>0.394641</td>\n",
       "    </tr>\n",
       "    <tr>\n",
       "      <th>...</th>\n",
       "      <td>...</td>\n",
       "      <td>...</td>\n",
       "      <td>...</td>\n",
       "    </tr>\n",
       "    <tr>\n",
       "      <th>4868</th>\n",
       "      <td>-0.026389</td>\n",
       "      <td>0.053341</td>\n",
       "      <td>0.677098</td>\n",
       "    </tr>\n",
       "    <tr>\n",
       "      <th>4869</th>\n",
       "      <td>0.152827</td>\n",
       "      <td>NaN</td>\n",
       "      <td>NaN</td>\n",
       "    </tr>\n",
       "    <tr>\n",
       "      <th>4870</th>\n",
       "      <td>-0.038036</td>\n",
       "      <td>0.030706</td>\n",
       "      <td>-1.165469</td>\n",
       "    </tr>\n",
       "    <tr>\n",
       "      <th>4871</th>\n",
       "      <td>-1.197441</td>\n",
       "      <td>NaN</td>\n",
       "      <td>NaN</td>\n",
       "    </tr>\n",
       "    <tr>\n",
       "      <th>4872</th>\n",
       "      <td>-0.352147</td>\n",
       "      <td>-0.225580</td>\n",
       "      <td>-0.841602</td>\n",
       "    </tr>\n",
       "  </tbody>\n",
       "</table>\n",
       "<p>4873 rows × 3 columns</p>\n",
       "</div>"
      ],
      "text/plain": [
       "      Character Count  Average Sentence Length  Common Perc\n",
       "0           -2.246622                -0.472215          NaN\n",
       "1            0.929172                -0.030178     0.733986\n",
       "2           -0.766299                -0.075603     0.121466\n",
       "3                 NaN                -0.199950     0.642954\n",
       "4            0.664944                 0.311788     0.394641\n",
       "...               ...                      ...          ...\n",
       "4868        -0.026389                 0.053341     0.677098\n",
       "4869         0.152827                      NaN          NaN\n",
       "4870        -0.038036                 0.030706    -1.165469\n",
       "4871        -1.197441                      NaN          NaN\n",
       "4872        -0.352147                -0.225580    -0.841602\n",
       "\n",
       "[4873 rows x 3 columns]"
      ]
     },
     "execution_count": 5,
     "metadata": {},
     "output_type": "execute_result"
    }
   ],
   "source": [
    "data_df_readability_normalised = readability_df[['Character Count', 'Average Sentence Length', 'Common Perc']]\n",
    "data_df_readability_normalised = (data_df_readability_normalised-data_df_readability_normalised.mean())/data_df_readability_normalised.std()\n",
    "data_df_readability_normalised"
   ]
  },
  {
   "cell_type": "code",
   "execution_count": 6,
   "metadata": {},
   "outputs": [
    {
     "ename": "SyntaxError",
     "evalue": "invalid syntax (<ipython-input-6-85d9e1ce62e3>, line 1)",
     "output_type": "error",
     "traceback": [
      "\u001b[0;36m  File \u001b[0;32m\"<ipython-input-6-85d9e1ce62e3>\"\u001b[0;36m, line \u001b[0;32m1\u001b[0m\n\u001b[0;31m    - higher characters = worse readability\u001b[0m\n\u001b[0m             ^\u001b[0m\n\u001b[0;31mSyntaxError\u001b[0m\u001b[0;31m:\u001b[0m invalid syntax\n"
     ]
    }
   ],
   "source": [
    "- higher characters = worse readability\n",
    "- higher average sentence length = worse readability\n",
    "- higher common perc = better readability"
   ]
  },
  {
   "cell_type": "code",
   "execution_count": null,
   "metadata": {},
   "outputs": [],
   "source": []
  }
 ],
 "metadata": {
  "kernelspec": {
   "display_name": "Python 3",
   "language": "python",
   "name": "python3"
  },
  "language_info": {
   "codemirror_mode": {
    "name": "ipython",
    "version": 3
   },
   "file_extension": ".py",
   "mimetype": "text/x-python",
   "name": "python",
   "nbconvert_exporter": "python",
   "pygments_lexer": "ipython3",
   "version": "3.8.3"
  }
 },
 "nbformat": 4,
 "nbformat_minor": 4
}

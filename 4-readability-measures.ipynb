{
 "cells": [
  {
   "cell_type": "code",
   "execution_count": 4,
   "metadata": {},
   "outputs": [],
   "source": [
    "import pandas as pd\n",
    "import json\n",
    "import numpy as np\n",
    "from readability import Readability\n",
    "import seaborn as sns\n",
    "import ast\n",
    "import syllables\n",
    "import requests\n",
    "from collections import Counter\n",
    "import string\n",
    "from bs4 import BeautifulSoup\n",
    "import readability_lxml # note this package has been manually renamed due to clash with other readability package\n",
    "from readability_lxml import Document"
   ]
  },
  {
   "cell_type": "code",
   "execution_count": 7,
   "metadata": {},
   "outputs": [
    {
     "data": {
      "text/html": [
       "<div>\n",
       "<style scoped>\n",
       "    .dataframe tbody tr th:only-of-type {\n",
       "        vertical-align: middle;\n",
       "    }\n",
       "\n",
       "    .dataframe tbody tr th {\n",
       "        vertical-align: top;\n",
       "    }\n",
       "\n",
       "    .dataframe thead th {\n",
       "        text-align: right;\n",
       "    }\n",
       "</style>\n",
       "<table border=\"1\" class=\"dataframe\">\n",
       "  <thead>\n",
       "    <tr style=\"text-align: right;\">\n",
       "      <th></th>\n",
       "      <th></th>\n",
       "      <th>Firm</th>\n",
       "      <th>Link</th>\n",
       "      <th>Text</th>\n",
       "    </tr>\n",
       "  </thead>\n",
       "  <tbody>\n",
       "    <tr>\n",
       "      <th>0</th>\n",
       "      <td>1</td>\n",
       "      <td>Whiteleys Financial Management LLP</td>\n",
       "      <td>http://www.whiteleysaccountants.co.uk/privacy-...</td>\n",
       "      <td>['http://www.whiteleysaccountants.co.uk ( Webs...</td>\n",
       "    </tr>\n",
       "    <tr>\n",
       "      <th>1</th>\n",
       "      <td>2</td>\n",
       "      <td>Whiteleys Financial Management LLP</td>\n",
       "      <td>http://www.whiteleysaccountants.co.uk/news-ite...</td>\n",
       "      <td>['Despite record wage rises , real - terms pay...</td>\n",
       "    </tr>\n",
       "    <tr>\n",
       "      <th>2</th>\n",
       "      <td>3</td>\n",
       "      <td>Pioneer Point Partners LLP</td>\n",
       "      <td>https://pioneerpoint.com/privacy-and-cookie-po...</td>\n",
       "      <td>['Our privacy &amp; cookie policy Pioneer Point Pa...</td>\n",
       "    </tr>\n",
       "    <tr>\n",
       "      <th>3</th>\n",
       "      <td>4</td>\n",
       "      <td>Engage Wealth Management Limited</td>\n",
       "      <td>https://engagewm.co.uk/privacy-notice/</td>\n",
       "      <td>['CLICK HERE to download a PDF version of our ...</td>\n",
       "    </tr>\n",
       "    <tr>\n",
       "      <th>4</th>\n",
       "      <td>5</td>\n",
       "      <td>Engage Wealth Management Limited</td>\n",
       "      <td>https://policies.google.com/privacy</td>\n",
       "      <td>['Google Privacy Policy', 'When you use our se...</td>\n",
       "    </tr>\n",
       "    <tr>\n",
       "      <th>...</th>\n",
       "      <td>...</td>\n",
       "      <td>...</td>\n",
       "      <td>...</td>\n",
       "      <td>...</td>\n",
       "    </tr>\n",
       "    <tr>\n",
       "      <th>4722</th>\n",
       "      <td>4826</td>\n",
       "      <td>Lady Grover's Hospital Fund for Officers' Fami...</td>\n",
       "      <td>https://forceshealth.co.uk/cookie-policy/</td>\n",
       "      <td>['Forces Health Military Private Medical Insur...</td>\n",
       "    </tr>\n",
       "    <tr>\n",
       "      <th>4723</th>\n",
       "      <td>4827</td>\n",
       "      <td>Onyx Commodities Limited</td>\n",
       "      <td>http://www.onyxcapitalgroup.com/cookie-policy/</td>\n",
       "      <td>['Last updated : 09-11-2022', 'Onyx Capital Gr...</td>\n",
       "    </tr>\n",
       "    <tr>\n",
       "      <th>4724</th>\n",
       "      <td>4828</td>\n",
       "      <td>Baring Asset Management Limited</td>\n",
       "      <td>http://www.barings.com/en-gb/guest/content/ter...</td>\n",
       "      <td>['Barings LLC ( “ Barings ” ) , a Delaware lim...</td>\n",
       "    </tr>\n",
       "    <tr>\n",
       "      <th>4725</th>\n",
       "      <td>4830</td>\n",
       "      <td>Baring Asset Management Limited</td>\n",
       "      <td>http://www.barings.com/en-gb/guest/content/coo...</td>\n",
       "      <td>['This Cookies Notice applies to Barings LLC a...</td>\n",
       "    </tr>\n",
       "    <tr>\n",
       "      <th>4726</th>\n",
       "      <td>4831</td>\n",
       "      <td>BARINGS (U.K.) LIMITED</td>\n",
       "      <td>https://consensusworkspace.co.uk/privacy-policy/</td>\n",
       "      <td>['PRIVACY POLICY This privacy policy sets out ...</td>\n",
       "    </tr>\n",
       "  </tbody>\n",
       "</table>\n",
       "<p>4727 rows × 4 columns</p>\n",
       "</div>"
      ],
      "text/plain": [
       "                                                         Firm  \\\n",
       "0        1                 Whiteleys Financial Management LLP   \n",
       "1        2                 Whiteleys Financial Management LLP   \n",
       "2        3                         Pioneer Point Partners LLP   \n",
       "3        4                   Engage Wealth Management Limited   \n",
       "4        5                   Engage Wealth Management Limited   \n",
       "...    ...                                                ...   \n",
       "4722  4826  Lady Grover's Hospital Fund for Officers' Fami...   \n",
       "4723  4827                           Onyx Commodities Limited   \n",
       "4724  4828                    Baring Asset Management Limited   \n",
       "4725  4830                    Baring Asset Management Limited   \n",
       "4726  4831                             BARINGS (U.K.) LIMITED   \n",
       "\n",
       "                                                   Link  \\\n",
       "0     http://www.whiteleysaccountants.co.uk/privacy-...   \n",
       "1     http://www.whiteleysaccountants.co.uk/news-ite...   \n",
       "2     https://pioneerpoint.com/privacy-and-cookie-po...   \n",
       "3                https://engagewm.co.uk/privacy-notice/   \n",
       "4                   https://policies.google.com/privacy   \n",
       "...                                                 ...   \n",
       "4722          https://forceshealth.co.uk/cookie-policy/   \n",
       "4723     http://www.onyxcapitalgroup.com/cookie-policy/   \n",
       "4724  http://www.barings.com/en-gb/guest/content/ter...   \n",
       "4725  http://www.barings.com/en-gb/guest/content/coo...   \n",
       "4726   https://consensusworkspace.co.uk/privacy-policy/   \n",
       "\n",
       "                                                   Text  \n",
       "0     ['http://www.whiteleysaccountants.co.uk ( Webs...  \n",
       "1     ['Despite record wage rises , real - terms pay...  \n",
       "2     ['Our privacy & cookie policy Pioneer Point Pa...  \n",
       "3     ['CLICK HERE to download a PDF version of our ...  \n",
       "4     ['Google Privacy Policy', 'When you use our se...  \n",
       "...                                                 ...  \n",
       "4722  ['Forces Health Military Private Medical Insur...  \n",
       "4723  ['Last updated : 09-11-2022', 'Onyx Capital Gr...  \n",
       "4724  ['Barings LLC ( “ Barings ” ) , a Delaware lim...  \n",
       "4725  ['This Cookies Notice applies to Barings LLC a...  \n",
       "4726  ['PRIVACY POLICY This privacy policy sets out ...  \n",
       "\n",
       "[4727 rows x 4 columns]"
      ]
     },
     "execution_count": 7,
     "metadata": {},
     "output_type": "execute_result"
    }
   ],
   "source": [
    "data_df = pd.read_csv('data/3-text-extraction.csv')\n",
    "data_df.columns = ['','Firm','Link','Text']\n",
    "data_df"
   ]
  },
  {
   "cell_type": "markdown",
   "metadata": {},
   "source": [
    "## Average Sentence Length"
   ]
  },
  {
   "cell_type": "code",
   "execution_count": null,
   "metadata": {},
   "outputs": [],
   "source": [
    "texts = data_df['Text']\n",
    "texts = [ast.literal_eval(i) for i in texts]"
   ]
  },
  {
   "cell_type": "code",
   "execution_count": null,
   "metadata": {},
   "outputs": [],
   "source": [
    "avg_sentence_length = []\n",
    "for i in texts:\n",
    "    numb_sentences = len(i)\n",
    "    total_words = 0\n",
    "    for j in np.arange(len(i)):\n",
    "        total_words += len(i[j])\n",
    "    \n",
    "    if numb_sentences != 0: \n",
    "        avg_sentence_length.append(total_words / numb_sentences)\n",
    "    else:\n",
    "        avg_sentence_length.append(np.NaN)"
   ]
  },
  {
   "cell_type": "code",
   "execution_count": null,
   "metadata": {},
   "outputs": [],
   "source": [
    "data_df['Average Sentence Length'] = avg_sentence_length"
   ]
  },
  {
   "cell_type": "markdown",
   "metadata": {},
   "source": [
    "## # of characters on webpage"
   ]
  },
  {
   "cell_type": "code",
   "execution_count": null,
   "metadata": {},
   "outputs": [],
   "source": [
    "links_df = pd.read_excel('data/2-urls-all.xlsx')\n",
    "\n",
    "# uncomment and change index for running code in batches\n",
    "# links = links_df.iloc[10:15]['URL']\n",
    "# firms = links_df.iloc[10:15]['Firm']\n",
    "\n",
    "links = links_df['URL']\n",
    "firms = links_df['Firm']"
   ]
  },
  {
   "cell_type": "code",
   "execution_count": null,
   "metadata": {},
   "outputs": [],
   "source": [
    "%%time\n",
    "all_charactercount = []\n",
    "\n",
    "for link in links:\n",
    "    try:\n",
    "        r = requests.get(link, stream=True)\n",
    "        doc = Document(r.text)\n",
    "        page_content = doc.summary()\n",
    "        \n",
    "        soup = BeautifulSoup(page_content, features=\"html.parser\")\n",
    "        \n",
    "        # Find total word count for one link\n",
    "        charactercount = len(page_content)\n",
    "        \n",
    "        all_charactercount.append(charactercount)  \n",
    "    except:\n",
    "        all_charactercount.append(np.NaN)"
   ]
  },
  {
   "cell_type": "code",
   "execution_count": null,
   "metadata": {},
   "outputs": [],
   "source": [
    "data_df['Common Perc'] = np.log(all_charactercount)"
   ]
  },
  {
   "cell_type": "markdown",
   "metadata": {},
   "source": [
    "## Common Words as % of total words"
   ]
  },
  {
   "cell_type": "code",
   "execution_count": null,
   "metadata": {},
   "outputs": [],
   "source": [
    "k_words = 'https://raw.githubusercontent.com/first20hours/google-10000-english/master/google-10000-english-usa-no-swears.txt'\n",
    "response = requests.get(k_words)\n",
    "data = response.text\n",
    "set_of_common_words = {x for x in data.split('\\n')}\n",
    "\n",
    "words = {}\n",
    "for index, row in data_df.iterrows():\n",
    "    text = str(row[3]).strip()\n",
    "    text = text.replace('[','').replace(\"]\",\"\").replace(\"'\",\"\").strip()\n",
    "    word_list = text.split(',')\n",
    "    word_list = [x.strip(' ') for x in word_list]\n",
    "    word_list = [x for x in word_list if ((len(x)>1 or x.isalpha()) and x is not None)]\n",
    "    words[row[2]] = word_list\n",
    "\n",
    "\n",
    "common_word_lists = [[y for y in x if ((y in set_of_common_words) & (syllables.estimate(y) >= 3))]for x in words.values() ]\n",
    "firm_complex_words_common_count = dict(zip(words.keys(), [len(x) for x in common_word_lists]))\n",
    "firm_complex_words_common_count = dict(sorted(firm_complex_words_common_count.items(), key=lambda item: item[1]))\n",
    "\n",
    "complex_common_words_pc = {k:(firm_complex_words_common_count[k]/len(v)) for (k,v) in words.items() if len(v)!=0}"
   ]
  },
  {
   "cell_type": "code",
   "execution_count": null,
   "metadata": {},
   "outputs": [],
   "source": [
    "data_df['Common Perc'] = complex_common_words_pc.values()"
   ]
  },
  {
   "cell_type": "markdown",
   "metadata": {},
   "source": [
    "## Export"
   ]
  },
  {
   "cell_type": "code",
   "execution_count": 8,
   "metadata": {},
   "outputs": [],
   "source": [
    "data_df.to_csv('data/4-readability-measures.csv')"
   ]
  }
 ],
 "metadata": {
  "kernelspec": {
   "display_name": "Python 3",
   "language": "python",
   "name": "python3"
  },
  "language_info": {
   "codemirror_mode": {
    "name": "ipython",
    "version": 3
   },
   "file_extension": ".py",
   "mimetype": "text/x-python",
   "name": "python",
   "nbconvert_exporter": "python",
   "pygments_lexer": "ipython3",
   "version": "3.8.3"
  }
 },
 "nbformat": 4,
 "nbformat_minor": 4
}
